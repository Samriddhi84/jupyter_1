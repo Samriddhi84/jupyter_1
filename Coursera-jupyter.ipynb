{
 "cells": [
  {
   "cell_type": "markdown",
   "id": "050678f0-6a20-4c59-aaec-cb523f2dc47e",
   "metadata": {},
   "source": [
    "# Data Science Tools and Ecosystem\n"
   ]
  },
  {
   "cell_type": "markdown",
   "id": "2b61648f-cafa-44bc-be37-19c3e127b87b",
   "metadata": {},
   "source": [
    "In this notebook, Data Science Tools and Ecosystem are summarized.\n"
   ]
  },
  {
   "cell_type": "markdown",
   "id": "6a716a4a-93ee-4ee9-848e-29655db49225",
   "metadata": {},
   "source": [
    "Some of the popular languages used by data scientists:\n",
    "1. Python\n",
    "2. SQL\n",
    "3. Java\n",
    "4. C++\n",
    "5. R etc..,"
   ]
  },
  {
   "cell_type": "markdown",
   "id": "1ee878a9-602e-4797-80da-b3a96ae35d4b",
   "metadata": {},
   "source": [
    "Some of the commmonly used libraries:\n",
    "1. Tensorflow\n",
    "2. Scipy\n",
    "3. Numpy\n",
    "4. Pandas\n",
    "5. Matplotlib etc..;"
   ]
  },
  {
   "cell_type": "markdown",
   "id": "70e20c70-fbfb-46ef-9848-4eb5d9e15640",
   "metadata": {},
   "source": [
    "|Data Science Tools|\n",
    "|---|\n",
    "|SAS|\n",
    "|Apache Hadoop|\n",
    "|Tensorflow|"
   ]
  },
  {
   "cell_type": "markdown",
   "id": "379c871d-f447-4594-9c3c-997e099fe14c",
   "metadata": {},
   "source": [
    "### Below are the few examples of evaluating airthmetic expression using Python"
   ]
  },
  {
   "cell_type": "markdown",
   "id": "a5648dd7-b22b-4c95-8d39-3f437fbbba66",
   "metadata": {},
   "source": [
    "#This is a common example to multiply and add integers\n",
    "(3*4)+5"
   ]
  },
  {
   "cell_type": "code",
   "execution_count": 1,
   "id": "b187ce31-fcdc-4752-a832-1f415fe26171",
   "metadata": {},
   "outputs": [
    {
     "data": {
      "text/plain": [
       "17"
      ]
     },
     "execution_count": 1,
     "metadata": {},
     "output_type": "execute_result"
    }
   ],
   "source": [
    "(3*4)+5"
   ]
  },
  {
   "cell_type": "code",
   "execution_count": 2,
   "id": "7e98acb6-bd13-463b-8a0e-d4ba79aa3ee7",
   "metadata": {},
   "outputs": [],
   "source": [
    "#This will convert 300 min to hours by dividing it by 60"
   ]
  },
  {
   "cell_type": "code",
   "execution_count": 3,
   "id": "ee5a9f9a-d910-4f9b-aadb-54754308e57a",
   "metadata": {},
   "outputs": [
    {
     "data": {
      "text/plain": [
       "5.0"
      ]
     },
     "execution_count": 3,
     "metadata": {},
     "output_type": "execute_result"
    }
   ],
   "source": [
    "300/60"
   ]
  },
  {
   "cell_type": "markdown",
   "id": "4c9bdee1-f14e-4f10-8721-0f54ff45bfaf",
   "metadata": {},
   "source": [
    "## Objective                                                                                                        "
   ]
  },
  {
   "cell_type": "markdown",
   "id": "8ef5ebb3-4a6e-4d3d-a2ff-5cbda5a0e84d",
   "metadata": {},
   "source": [
    "1. List popular languages for Data Science.\n",
    "2. List popular libraries for Data Science.\n",
    "3. List of well known Data Science Tools.\n",
    "4. How to Provide comments in the cell?"
   ]
  },
  {
   "cell_type": "markdown",
   "id": "f4c8e5c8-c143-46a1-9499-4f4a9b3679fd",
   "metadata": {},
   "source": [
    "## Author"
   ]
  },
  {
   "cell_type": "markdown",
   "id": "7d8164e1-c097-4d47-9b2d-d3e1cd9c2b71",
   "metadata": {},
   "source": [
    "Samriddhi Singh"
   ]
  }
 ],
 "metadata": {
  "kernelspec": {
   "display_name": "Python 3 (ipykernel)",
   "language": "python",
   "name": "python3"
  },
  "language_info": {
   "codemirror_mode": {
    "name": "ipython",
    "version": 3
   },
   "file_extension": ".py",
   "mimetype": "text/x-python",
   "name": "python",
   "nbconvert_exporter": "python",
   "pygments_lexer": "ipython3",
   "version": "3.10.4"
  }
 },
 "nbformat": 4,
 "nbformat_minor": 5
}
